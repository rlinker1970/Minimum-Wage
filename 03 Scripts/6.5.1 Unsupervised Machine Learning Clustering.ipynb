{
 "cells": [
  {
   "cell_type": "markdown",
   "id": "78b91580-6609-420a-a146-3d733e2a4ecd",
   "metadata": {},
   "source": [
    "# Unsepervised Machine Learning: Clustering"
   ]
  },
  {
   "cell_type": "markdown",
   "id": "d2253c39-9a5e-4567-8b43-3e919bdb4bcb",
   "metadata": {},
   "source": [
    "## Contents"
   ]
  },
  {
   "cell_type": "markdown",
   "id": "49a1867f-ab28-419c-aa5b-21ff580cbbb6",
   "metadata": {},
   "source": [
    "### Import libraries and data"
   ]
  },
  {
   "cell_type": "code",
   "execution_count": 3,
   "id": "22897549-48fc-410e-ab7b-538093073249",
   "metadata": {},
   "outputs": [],
   "source": [
    "import pandas as pd\n",
    "import numpy as np\n",
    "import seaborn as sns\n",
    "import matplotlib\n",
    "import matplotlib.pyplot as plt\n",
    "import os\n",
    "import sklearn\n",
    "from sklearn.cluster import KMeans\n",
    "from sklearn.preprocessing import StandardScaler\n",
    "import pylab as pl"
   ]
  },
  {
   "cell_type": "code",
   "execution_count": 4,
   "id": "81ad5ddb-ff65-4787-b4b7-5ae40f1ca969",
   "metadata": {},
   "outputs": [],
   "source": [
    "%matplotlib inline"
   ]
  },
  {
   "cell_type": "code",
   "execution_count": 5,
   "id": "f16b18c3-914a-4882-bbf5-3c327ca987e0",
   "metadata": {},
   "outputs": [],
   "source": [
    "path = 'C:/Users/rlink/Minimum Wage/02 data'"
   ]
  },
  {
   "cell_type": "code",
   "execution_count": 6,
   "id": "9beaa710-7baa-4bc6-87eb-1f7dfc88af5e",
   "metadata": {},
   "outputs": [],
   "source": [
    "df = pd.read_csv(os.path.join(path, 'Minimum Wage Data 01.csv'))"
   ]
  },
  {
   "cell_type": "code",
   "execution_count": 11,
   "id": "40e01bfe-60a9-4626-927e-0c46c7fa9665",
   "metadata": {},
   "outputs": [
    {
     "data": {
      "text/plain": [
       "(2862, 15)"
      ]
     },
     "execution_count": 11,
     "metadata": {},
     "output_type": "execute_result"
    }
   ],
   "source": [
    "df.shape"
   ]
  },
  {
   "cell_type": "code",
   "execution_count": 13,
   "id": "0b2030f8-a503-4fe6-a795-ec564ff98239",
   "metadata": {},
   "outputs": [
    {
     "data": {
      "text/plain": [
       "Index(['Year', 'State', 'State.Minimum.Wage',\n",
       "       'State.Minimum.Wage.2020.Dollars', 'Federal.Minimum.Wage',\n",
       "       'Federal.Minimum.Wage.2020.Dollars', 'Effective.Minimum.Wage',\n",
       "       'Effective.Minimum.Wage.2020.Dollars', 'CPI.Average',\n",
       "       'Department.Of.Labor.Uncleaned.Data',\n",
       "       'Department.Of.Labor.Cleaned.Low.Value',\n",
       "       'Department.Of.Labor.Cleaned.Low.Value.2020.Dollars',\n",
       "       'Department.Of.Labor.Cleaned.High.Value',\n",
       "       'Department.Of.Labor.Cleaned.High.Value.2020.Dollars', 'Footnote'],\n",
       "      dtype='object')"
      ]
     },
     "execution_count": 13,
     "metadata": {},
     "output_type": "execute_result"
    }
   ],
   "source": [
    "df.columns"
   ]
  },
  {
   "cell_type": "code",
   "execution_count": 15,
   "id": "932425f5-b705-4013-85a0-204a5d2426a9",
   "metadata": {},
   "outputs": [
    {
     "data": {
      "text/html": [
       "<div>\n",
       "<style scoped>\n",
       "    .dataframe tbody tr th:only-of-type {\n",
       "        vertical-align: middle;\n",
       "    }\n",
       "\n",
       "    .dataframe tbody tr th {\n",
       "        vertical-align: top;\n",
       "    }\n",
       "\n",
       "    .dataframe thead th {\n",
       "        text-align: right;\n",
       "    }\n",
       "</style>\n",
       "<table border=\"1\" class=\"dataframe\">\n",
       "  <thead>\n",
       "    <tr style=\"text-align: right;\">\n",
       "      <th></th>\n",
       "      <th>Year</th>\n",
       "      <th>State</th>\n",
       "      <th>State.Minimum.Wage</th>\n",
       "      <th>State.Minimum.Wage.2020.Dollars</th>\n",
       "      <th>Federal.Minimum.Wage</th>\n",
       "      <th>Federal.Minimum.Wage.2020.Dollars</th>\n",
       "      <th>Effective.Minimum.Wage</th>\n",
       "      <th>Effective.Minimum.Wage.2020.Dollars</th>\n",
       "      <th>CPI.Average</th>\n",
       "      <th>Department.Of.Labor.Uncleaned.Data</th>\n",
       "      <th>Department.Of.Labor.Cleaned.Low.Value</th>\n",
       "      <th>Department.Of.Labor.Cleaned.Low.Value.2020.Dollars</th>\n",
       "      <th>Department.Of.Labor.Cleaned.High.Value</th>\n",
       "      <th>Department.Of.Labor.Cleaned.High.Value.2020.Dollars</th>\n",
       "      <th>Footnote</th>\n",
       "    </tr>\n",
       "  </thead>\n",
       "  <tbody>\n",
       "    <tr>\n",
       "      <th>0</th>\n",
       "      <td>1968</td>\n",
       "      <td>Alabama</td>\n",
       "      <td>0.00000</td>\n",
       "      <td>0.00</td>\n",
       "      <td>1.15</td>\n",
       "      <td>8.55</td>\n",
       "      <td>1.15</td>\n",
       "      <td>8.55</td>\n",
       "      <td>34.8</td>\n",
       "      <td>...</td>\n",
       "      <td>0.00000</td>\n",
       "      <td>0.00</td>\n",
       "      <td>0.00000</td>\n",
       "      <td>0.00</td>\n",
       "      <td>NaN</td>\n",
       "    </tr>\n",
       "    <tr>\n",
       "      <th>1</th>\n",
       "      <td>1968</td>\n",
       "      <td>Alaska</td>\n",
       "      <td>2.10000</td>\n",
       "      <td>15.61</td>\n",
       "      <td>1.15</td>\n",
       "      <td>8.55</td>\n",
       "      <td>2.10</td>\n",
       "      <td>15.61</td>\n",
       "      <td>34.8</td>\n",
       "      <td>2.1</td>\n",
       "      <td>2.10000</td>\n",
       "      <td>15.61</td>\n",
       "      <td>2.10000</td>\n",
       "      <td>15.61</td>\n",
       "      <td>NaN</td>\n",
       "    </tr>\n",
       "    <tr>\n",
       "      <th>2</th>\n",
       "      <td>1968</td>\n",
       "      <td>Arizona</td>\n",
       "      <td>0.46800</td>\n",
       "      <td>3.48</td>\n",
       "      <td>1.15</td>\n",
       "      <td>8.55</td>\n",
       "      <td>1.15</td>\n",
       "      <td>8.55</td>\n",
       "      <td>34.8</td>\n",
       "      <td>18.72 - 26.40/wk(b)</td>\n",
       "      <td>0.46800</td>\n",
       "      <td>3.48</td>\n",
       "      <td>0.66000</td>\n",
       "      <td>4.91</td>\n",
       "      <td>(b)</td>\n",
       "    </tr>\n",
       "    <tr>\n",
       "      <th>3</th>\n",
       "      <td>1968</td>\n",
       "      <td>Arkansas</td>\n",
       "      <td>0.15625</td>\n",
       "      <td>1.16</td>\n",
       "      <td>1.15</td>\n",
       "      <td>8.55</td>\n",
       "      <td>1.15</td>\n",
       "      <td>8.55</td>\n",
       "      <td>34.8</td>\n",
       "      <td>1.25/day(b)</td>\n",
       "      <td>0.15625</td>\n",
       "      <td>1.16</td>\n",
       "      <td>0.15625</td>\n",
       "      <td>1.16</td>\n",
       "      <td>(b)</td>\n",
       "    </tr>\n",
       "    <tr>\n",
       "      <th>4</th>\n",
       "      <td>1968</td>\n",
       "      <td>California</td>\n",
       "      <td>1.65000</td>\n",
       "      <td>12.26</td>\n",
       "      <td>1.15</td>\n",
       "      <td>8.55</td>\n",
       "      <td>1.65</td>\n",
       "      <td>12.26</td>\n",
       "      <td>34.8</td>\n",
       "      <td>1.65(b)</td>\n",
       "      <td>1.65000</td>\n",
       "      <td>12.26</td>\n",
       "      <td>1.65000</td>\n",
       "      <td>12.26</td>\n",
       "      <td>(b)</td>\n",
       "    </tr>\n",
       "  </tbody>\n",
       "</table>\n",
       "</div>"
      ],
      "text/plain": [
       "   Year       State  State.Minimum.Wage  State.Minimum.Wage.2020.Dollars  \\\n",
       "0  1968     Alabama             0.00000                             0.00   \n",
       "1  1968      Alaska             2.10000                            15.61   \n",
       "2  1968     Arizona             0.46800                             3.48   \n",
       "3  1968    Arkansas             0.15625                             1.16   \n",
       "4  1968  California             1.65000                            12.26   \n",
       "\n",
       "   Federal.Minimum.Wage  Federal.Minimum.Wage.2020.Dollars  \\\n",
       "0                  1.15                               8.55   \n",
       "1                  1.15                               8.55   \n",
       "2                  1.15                               8.55   \n",
       "3                  1.15                               8.55   \n",
       "4                  1.15                               8.55   \n",
       "\n",
       "   Effective.Minimum.Wage  Effective.Minimum.Wage.2020.Dollars  CPI.Average  \\\n",
       "0                    1.15                                 8.55         34.8   \n",
       "1                    2.10                                15.61         34.8   \n",
       "2                    1.15                                 8.55         34.8   \n",
       "3                    1.15                                 8.55         34.8   \n",
       "4                    1.65                                12.26         34.8   \n",
       "\n",
       "  Department.Of.Labor.Uncleaned.Data  Department.Of.Labor.Cleaned.Low.Value  \\\n",
       "0                                ...                                0.00000   \n",
       "1                                2.1                                2.10000   \n",
       "2                18.72 - 26.40/wk(b)                                0.46800   \n",
       "3                        1.25/day(b)                                0.15625   \n",
       "4                            1.65(b)                                1.65000   \n",
       "\n",
       "   Department.Of.Labor.Cleaned.Low.Value.2020.Dollars  \\\n",
       "0                                               0.00    \n",
       "1                                              15.61    \n",
       "2                                               3.48    \n",
       "3                                               1.16    \n",
       "4                                              12.26    \n",
       "\n",
       "   Department.Of.Labor.Cleaned.High.Value  \\\n",
       "0                                 0.00000   \n",
       "1                                 2.10000   \n",
       "2                                 0.66000   \n",
       "3                                 0.15625   \n",
       "4                                 1.65000   \n",
       "\n",
       "   Department.Of.Labor.Cleaned.High.Value.2020.Dollars Footnote  \n",
       "0                                               0.00        NaN  \n",
       "1                                              15.61        NaN  \n",
       "2                                               4.91        (b)  \n",
       "3                                               1.16        (b)  \n",
       "4                                              12.26        (b)  "
      ]
     },
     "execution_count": 15,
     "metadata": {},
     "output_type": "execute_result"
    }
   ],
   "source": [
    "df.head()"
   ]
  },
  {
   "cell_type": "code",
   "execution_count": 17,
   "id": "6ac4dfd3-6cde-437c-b084-dbc2a07f13cc",
   "metadata": {},
   "outputs": [],
   "source": [
    "df.rename(columns = {'State.Minimum.Wage' : 'st min wage', 'State.Minimum.Wage.2020.Dollars': 'st min wage 2020', 'Federal.Minimum.Wage': 'fed min wage', 'Federal.Minimum.Wage.2020.Dollars': 'fed min wage 2020', 'Effective.Minimum.Wage': 'eff min wage', 'Effective.Minimum.Wage.2020.Dollars' : 'eff min wage 2020', 'CPI.Average' : 'cpi ave', 'Department.Of.Labor.Uncleaned.Data' : 'DoL uncleaned data', 'Department.Of.Labor.Cleaned.Low.Value' : 'DoL cleaned low', 'Department.Of.Labor.Cleaned.Low.Value.2020.Dollars' : 'DoL cleaned low 2020', 'Department.Of.Labor.Cleaned.High.Value' : 'DoL cleaned high', 'Department.Of.Labor.Cleaned.High.Value.2020.Dollars' : 'DoL cleaned high 2020'}, inplace = True)"
   ]
  },
  {
   "cell_type": "code",
   "execution_count": 19,
   "id": "ec39177a-9620-48a9-941e-8906a61ae456",
   "metadata": {},
   "outputs": [
    {
     "data": {
      "text/plain": [
       "Index(['Year', 'State', 'st min wage', 'st min wage 2020', 'fed min wage',\n",
       "       'fed min wage 2020', 'eff min wage', 'eff min wage 2020', 'cpi ave',\n",
       "       'DoL uncleaned data', 'DoL cleaned low', 'DoL cleaned low 2020',\n",
       "       'DoL cleaned high', 'DoL cleaned high 2020', 'Footnote'],\n",
       "      dtype='object')"
      ]
     },
     "execution_count": 19,
     "metadata": {},
     "output_type": "execute_result"
    }
   ],
   "source": [
    "df.columns"
   ]
  },
  {
   "cell_type": "markdown",
   "id": "2978a881-04d5-45b1-882c-4fe1298c96da",
   "metadata": {},
   "source": [
    "## Elbow technique"
   ]
  },
  {
   "cell_type": "code",
   "execution_count": 22,
   "id": "dd260522-611d-438a-8efe-92ed7692479c",
   "metadata": {},
   "outputs": [],
   "source": [
    "var_inc = ['eff min wage', 'cpi ave']"
   ]
  },
  {
   "cell_type": "code",
   "execution_count": 24,
   "id": "2830dd32-65f0-44bf-8f26-9db2fe5a2794",
   "metadata": {},
   "outputs": [],
   "source": [
    "df_sub = df[var_inc]"
   ]
  },
  {
   "cell_type": "code",
   "execution_count": 26,
   "id": "0ee67f07-4710-402c-9d37-323c481b6e68",
   "metadata": {},
   "outputs": [
    {
     "data": {
      "text/plain": [
       "(2862, 2)"
      ]
     },
     "execution_count": 26,
     "metadata": {},
     "output_type": "execute_result"
    }
   ],
   "source": [
    "df_sub.shape"
   ]
  },
  {
   "cell_type": "code",
   "execution_count": 28,
   "id": "e2ef9226-193a-4064-aef1-2d1c498c1237",
   "metadata": {},
   "outputs": [],
   "source": [
    "### Standardize data"
   ]
  },
  {
   "cell_type": "code",
   "execution_count": 30,
   "id": "4411923f-5be6-4c24-96a1-4081a316f43d",
   "metadata": {},
   "outputs": [],
   "source": [
    "std_scaler = StandardScaler()\n",
    "df_scaled = std_scaler.fit_transform(df_sub)"
   ]
  },
  {
   "cell_type": "code",
   "execution_count": 32,
   "id": "1dd8ddf6-a42a-4bfd-a9a1-1870dc2140e8",
   "metadata": {},
   "outputs": [],
   "source": [
    "num_cl = range(1, 10)\n",
    "kmeans = [KMeans(n_clusters=i) for i in num_cl]"
   ]
  },
  {
   "cell_type": "code",
   "execution_count": 34,
   "id": "d75d3bbf-24bb-42f9-9b5d-51d0589e012e",
   "metadata": {},
   "outputs": [],
   "source": [
    "score = [kmeans[i].fit(df_scaled).score(df_scaled) for i in range(len(kmeans))]"
   ]
  },
  {
   "cell_type": "code",
   "execution_count": 36,
   "id": "695ed89a-f4f4-4ec2-a333-e5efcb100228",
   "metadata": {},
   "outputs": [
    {
     "data": {
      "text/plain": [
       "[-5723.999999999994,\n",
       " -1685.357326747051,\n",
       " -806.6907645485973,\n",
       " -447.43457354742895,\n",
       " -359.33291633350467,\n",
       " -208.83665534544843,\n",
       " -177.6669257131411,\n",
       " -151.26675357024084,\n",
       " -125.44566320822688]"
      ]
     },
     "execution_count": 36,
     "metadata": {},
     "output_type": "execute_result"
    }
   ],
   "source": [
    "score"
   ]
  },
  {
   "cell_type": "markdown",
   "id": "f485f701-020a-45e0-a7ef-d1f6e74c7ae3",
   "metadata": {},
   "source": [
    "### Plot the elbow curve using PyLab."
   ]
  },
  {
   "cell_type": "code",
   "execution_count": 39,
   "id": "01d62f1d-aa83-4a17-9d79-7376a6a38b50",
   "metadata": {},
   "outputs": [
    {
     "data": {
      "image/png": "[encoded data removed]",
      "text/plain": [
       "<Figure size 640x480 with 1 Axes>"
      ]
     },
     "metadata": {},
     "output_type": "display_data"
    }
   ],
   "source": [
    "pl.plot(num_cl,score)\n",
    "pl.xlabel('Number of Clusters')\n",
    "pl.ylabel('Score')\n",
    "pl.title('Elbow Curve')\n",
    "pl.show()"
   ]
  },
  {
   "cell_type": "markdown",
   "id": "14e34106-5093-4647-ac33-a6902b33bc73",
   "metadata": {},
   "source": [
    "Based on this chart I believe that the optimal number of clusters is 3. While there is some flattening at 2, I think that four is a better number to use because the flattening is significantly more pronounced."
   ]
  },
  {
   "cell_type": "code",
   "execution_count": 121,
   "id": "fc0609f2-9f95-4129-abc1-6d61704ff36f",
   "metadata": {},
   "outputs": [
    {
     "data": {
      "text/plain": [
       "0.622520408280052"
      ]
     },
     "execution_count": 121,
     "metadata": {},
     "output_type": "execute_result"
    }
   ],
   "source": [
    "from sklearn.datasets import make_blobs\n",
    "from sklearn.cluster import KMeans\n",
    "from sklearn.metrics import silhouette_score\n",
    "kmeans = KMeans(n_clusters=5, random_state=42)\n",
    "silhouette_score(df_scaled, kmeans.fit_predict(df_scaled))"
   ]
  },
  {
   "cell_type": "markdown",
   "id": "f093c260-bcb6-46b7-81e5-3716d526eb11",
   "metadata": {},
   "source": [
    "#### I ran the silhouette algaorithm for 2 -6 clusters. The coefficient for 3 (0.47059) is the closest to 1, even though it is not very close. Therefore, I conclude that it is the optimum number of clusters to examine."
   ]
  },
  {
   "cell_type": "markdown",
   "id": "3d7f5f33-328e-48ac-ae69-c2e70fac9f6f",
   "metadata": {},
   "source": [
    "### Create the k-means object"
   ]
  },
  {
   "cell_type": "code",
   "execution_count": 123,
   "id": "8914aa4e-3aab-43fc-857c-f0d02fbaacd5",
   "metadata": {},
   "outputs": [],
   "source": [
    "kmeans = KMeans(n_clusters = 5) "
   ]
  },
  {
   "cell_type": "markdown",
   "id": "a4208115-75a8-4d5e-a444-25cc7192d33d",
   "metadata": {},
   "source": [
    "### Fit the k-means object to the data"
   ]
  },
  {
   "cell_type": "code",
   "execution_count": 126,
   "id": "8adf4c30-8b78-46d5-a39c-7755e9397cf8",
   "metadata": {},
   "outputs": [
    {
     "data": {
      "text/html": [
       "<style>#sk-container-id-3 {\n",
       "  /* Definition of color scheme common for light and dark mode */\n",
       "  --sklearn-color-text: black;\n",
       "  --sklearn-color-line: gray;\n",
       "  /* Definition of color scheme for unfitted estimators */\n",
       "  --sklearn-color-unfitted-level-0: #fff5e6;\n",
       "  --sklearn-color-unfitted-level-1: #f6e4d2;\n",
       "  --sklearn-color-unfitted-level-2: #ffe0b3;\n",
       "  --sklearn-color-unfitted-level-3: chocolate;\n",
       "  /* Definition of color scheme for fitted estimators */\n",
       "  --sklearn-color-fitted-level-0: #f0f8ff;\n",
       "  --sklearn-color-fitted-level-1: #d4ebff;\n",
       "  --sklearn-color-fitted-level-2: #b3dbfd;\n",
       "  --sklearn-color-fitted-level-3: cornflowerblue;\n",
       "\n",
       "  /* Specific color for light theme */\n",
       "  --sklearn-color-text-on-default-background: var(--sg-text-color, var(--theme-code-foreground, var(--jp-content-font-color1, black)));\n",
       "  --sklearn-color-background: var(--sg-background-color, var(--theme-background, var(--jp-layout-color0, white)));\n",
       "  --sklearn-color-border-box: var(--sg-text-color, var(--theme-code-foreground, var(--jp-content-font-color1, black)));\n",
       "  --sklearn-color-icon: #696969;\n",
       "\n",
       "  @media (prefers-color-scheme: dark) {\n",
       "    /* Redefinition of color scheme for dark theme */\n",
       "    --sklearn-color-text-on-default-background: var(--sg-text-color, var(--theme-code-foreground, var(--jp-content-font-color1, white)));\n",
       "    --sklearn-color-background: var(--sg-background-color, var(--theme-background, var(--jp-layout-color0, #111)));\n",
       "    --sklearn-color-border-box: var(--sg-text-color, var(--theme-code-foreground, var(--jp-content-font-color1, white)));\n",
       "    --sklearn-color-icon: #878787;\n",
       "  }\n",
       "}\n",
       "\n",
       "#sk-container-id-3 {\n",
       "  color: var(--sklearn-color-text);\n",
       "}\n",
       "\n",
       "#sk-container-id-3 pre {\n",
       "  padding: 0;\n",
       "}\n",
       "\n",
       "#sk-container-id-3 input.sk-hidden--visually {\n",
       "  border: 0;\n",
       "  clip: rect(1px 1px 1px 1px);\n",
       "  clip: rect(1px, 1px, 1px, 1px);\n",
       "  height: 1px;\n",
       "  margin: -1px;\n",
       "  overflow: hidden;\n",
       "  padding: 0;\n",
       "  position: absolute;\n",
       "  width: 1px;\n",
       "}\n",
       "\n",
       "#sk-container-id-3 div.sk-dashed-wrapped {\n",
       "  border: 1px dashed var(--sklearn-color-line);\n",
       "  margin: 0 0.4em 0.5em 0.4em;\n",
       "  box-sizing: border-box;\n",
       "  padding-bottom: 0.4em;\n",
       "  background-color: var(--sklearn-color-background);\n",
       "}\n",
       "\n",
       "#sk-container-id-3 div.sk-container {\n",
       "  /* jupyter's `normalize.less` sets `[hidden] { display: none; }`\n",
       "     but bootstrap.min.css set `[hidden] { display: none !important; }`\n",
       "     so we also need the `!important` here to be able to override the\n",
       "     default hidden behavior on the sphinx rendered scikit-learn.org.\n",
       "     See: https://github.com/scikit-learn/scikit-learn/issues/21755 */\n",
       "  display: inline-block !important;\n",
       "  position: relative;\n",
       "}\n",
       "\n",
       "#sk-container-id-3 div.sk-text-repr-fallback {\n",
       "  display: none;\n",
       "}\n",
       "\n",
       "div.sk-parallel-item,\n",
       "div.sk-serial,\n",
       "div.sk-item {\n",
       "  /* draw centered vertical line to link estimators */\n",
       "  background-image: linear-gradient(var(--sklearn-color-text-on-default-background), var(--sklearn-color-text-on-default-background));\n",
       "  background-size: 2px 100%;\n",
       "  background-repeat: no-repeat;\n",
       "  background-position: center center;\n",
       "}\n",
       "\n",
       "/* Parallel-specific style estimator block */\n",
       "\n",
       "#sk-container-id-3 div.sk-parallel-item::after {\n",
       "  content: \"\";\n",
       "  width: 100%;\n",
       "  border-bottom: 2px solid var(--sklearn-color-text-on-default-background);\n",
       "  flex-grow: 1;\n",
       "}\n",
       "\n",
       "#sk-container-id-3 div.sk-parallel {\n",
       "  display: flex;\n",
       "  align-items: stretch;\n",
       "  justify-content: center;\n",
       "  background-color: var(--sklearn-color-background);\n",
       "  position: relative;\n",
       "}\n",
       "\n",
       "#sk-container-id-3 div.sk-parallel-item {\n",
       "  display: flex;\n",
       "  flex-direction: column;\n",
       "}\n",
       "\n",
       "#sk-container-id-3 div.sk-parallel-item:first-child::after {\n",
       "  align-self: flex-end;\n",
       "  width: 50%;\n",
       "}\n",
       "\n",
       "#sk-container-id-3 div.sk-parallel-item:last-child::after {\n",
       "  align-self: flex-start;\n",
       "  width: 50%;\n",
       "}\n",
       "\n",
       "#sk-container-id-3 div.sk-parallel-item:only-child::after {\n",
       "  width: 0;\n",
       "}\n",
       "\n",
       "/* Serial-specific style estimator block */\n",
       "\n",
       "#sk-container-id-3 div.sk-serial {\n",
       "  display: flex;\n",
       "  flex-direction: column;\n",
       "  align-items: center;\n",
       "  background-color: var(--sklearn-color-background);\n",
       "  padding-right: 1em;\n",
       "  padding-left: 1em;\n",
       "}\n",
       "\n",
       "\n",
       "/* Toggleable style: style used for estimator/Pipeline/ColumnTransformer box that is\n",
       "clickable and can be expanded/collapsed.\n",
       "- Pipeline and ColumnTransformer use this feature and define the default style\n",
       "- Estimators will overwrite some part of the style using the `sk-estimator` class\n",
       "*/\n",
       "\n",
       "/* Pipeline and ColumnTransformer style (default) */\n",
       "\n",
       "#sk-container-id-3 div.sk-toggleable {\n",
       "  /* Default theme specific background. It is overwritten whether we have a\n",
       "  specific estimator or a Pipeline/ColumnTransformer */\n",
       "  background-color: var(--sklearn-color-background);\n",
       "}\n",
       "\n",
       "/* Toggleable label */\n",
       "#sk-container-id-3 label.sk-toggleable__label {\n",
       "  cursor: pointer;\n",
       "  display: block;\n",
       "  width: 100%;\n",
       "  margin-bottom: 0;\n",
       "  padding: 0.5em;\n",
       "  box-sizing: border-box;\n",
       "  text-align: center;\n",
       "}\n",
       "\n",
       "#sk-container-id-3 label.sk-toggleable__label-arrow:before {\n",
       "  /* Arrow on the left of the label */\n",
       "  content: \"▸\";\n",
       "  float: left;\n",
       "  margin-right: 0.25em;\n",
       "  color: var(--sklearn-color-icon);\n",
       "}\n",
       "\n",
       "#sk-container-id-3 label.sk-toggleable__label-arrow:hover:before {\n",
       "  color: var(--sklearn-color-text);\n",
       "}\n",
       "\n",
       "/* Toggleable content - dropdown */\n",
       "\n",
       "#sk-container-id-3 div.sk-toggleable__content {\n",
       "  max-height: 0;\n",
       "  max-width: 0;\n",
       "  overflow: hidden;\n",
       "  text-align: left;\n",
       "  /* unfitted */\n",
       "  background-color: var(--sklearn-color-unfitted-level-0);\n",
       "}\n",
       "\n",
       "#sk-container-id-3 div.sk-toggleable__content.fitted {\n",
       "  /* fitted */\n",
       "  background-color: var(--sklearn-color-fitted-level-0);\n",
       "}\n",
       "\n",
       "#sk-container-id-3 div.sk-toggleable__content pre {\n",
       "  margin: 0.2em;\n",
       "  border-radius: 0.25em;\n",
       "  color: var(--sklearn-color-text);\n",
       "  /* unfitted */\n",
       "  background-color: var(--sklearn-color-unfitted-level-0);\n",
       "}\n",
       "\n",
       "#sk-container-id-3 div.sk-toggleable__content.fitted pre {\n",
       "  /* unfitted */\n",
       "  background-color: var(--sklearn-color-fitted-level-0);\n",
       "}\n",
       "\n",
       "#sk-container-id-3 input.sk-toggleable__control:checked~div.sk-toggleable__content {\n",
       "  /* Expand drop-down */\n",
       "  max-height: 200px;\n",
       "  max-width: 100%;\n",
       "  overflow: auto;\n",
       "}\n",
       "\n",
       "#sk-container-id-3 input.sk-toggleable__control:checked~label.sk-toggleable__label-arrow:before {\n",
       "  content: \"▾\";\n",
       "}\n",
       "\n",
       "/* Pipeline/ColumnTransformer-specific style */\n",
       "\n",
       "#sk-container-id-3 div.sk-label input.sk-toggleable__control:checked~label.sk-toggleable__label {\n",
       "  color: var(--sklearn-color-text);\n",
       "  background-color: var(--sklearn-color-unfitted-level-2);\n",
       "}\n",
       "\n",
       "#sk-container-id-3 div.sk-label.fitted input.sk-toggleable__control:checked~label.sk-toggleable__label {\n",
       "  background-color: var(--sklearn-color-fitted-level-2);\n",
       "}\n",
       "\n",
       "/* Estimator-specific style */\n",
       "\n",
       "/* Colorize estimator box */\n",
       "#sk-container-id-3 div.sk-estimator input.sk-toggleable__control:checked~label.sk-toggleable__label {\n",
       "  /* unfitted */\n",
       "  background-color: var(--sklearn-color-unfitted-level-2);\n",
       "}\n",
       "\n",
       "#sk-container-id-3 div.sk-estimator.fitted input.sk-toggleable__control:checked~label.sk-toggleable__label {\n",
       "  /* fitted */\n",
       "  background-color: var(--sklearn-color-fitted-level-2);\n",
       "}\n",
       "\n",
       "#sk-container-id-3 div.sk-label label.sk-toggleable__label,\n",
       "#sk-container-id-3 div.sk-label label {\n",
       "  /* The background is the default theme color */\n",
       "  color: var(--sklearn-color-text-on-default-background);\n",
       "}\n",
       "\n",
       "/* On hover, darken the color of the background */\n",
       "#sk-container-id-3 div.sk-label:hover label.sk-toggleable__label {\n",
       "  color: var(--sklearn-color-text);\n",
       "  background-color: var(--sklearn-color-unfitted-level-2);\n",
       "}\n",
       "\n",
       "/* Label box, darken color on hover, fitted */\n",
       "#sk-container-id-3 div.sk-label.fitted:hover label.sk-toggleable__label.fitted {\n",
       "  color: var(--sklearn-color-text);\n",
       "  background-color: var(--sklearn-color-fitted-level-2);\n",
       "}\n",
       "\n",
       "/* Estimator label */\n",
       "\n",
       "#sk-container-id-3 div.sk-label label {\n",
       "  font-family: monospace;\n",
       "  font-weight: bold;\n",
       "  display: inline-block;\n",
       "  line-height: 1.2em;\n",
       "}\n",
       "\n",
       "#sk-container-id-3 div.sk-label-container {\n",
       "  text-align: center;\n",
       "}\n",
       "\n",
       "/* Estimator-specific */\n",
       "#sk-container-id-3 div.sk-estimator {\n",
       "  font-family: monospace;\n",
       "  border: 1px dotted var(--sklearn-color-border-box);\n",
       "  border-radius: 0.25em;\n",
       "  box-sizing: border-box;\n",
       "  margin-bottom: 0.5em;\n",
       "  /* unfitted */\n",
       "  background-color: var(--sklearn-color-unfitted-level-0);\n",
       "}\n",
       "\n",
       "#sk-container-id-3 div.sk-estimator.fitted {\n",
       "  /* fitted */\n",
       "  background-color: var(--sklearn-color-fitted-level-0);\n",
       "}\n",
       "\n",
       "/* on hover */\n",
       "#sk-container-id-3 div.sk-estimator:hover {\n",
       "  /* unfitted */\n",
       "  background-color: var(--sklearn-color-unfitted-level-2);\n",
       "}\n",
       "\n",
       "#sk-container-id-3 div.sk-estimator.fitted:hover {\n",
       "  /* fitted */\n",
       "  background-color: var(--sklearn-color-fitted-level-2);\n",
       "}\n",
       "\n",
       "/* Specification for estimator info (e.g. \"i\" and \"?\") */\n",
       "\n",
       "/* Common style for \"i\" and \"?\" */\n",
       "\n",
       ".sk-estimator-doc-link,\n",
       "a:link.sk-estimator-doc-link,\n",
       "a:visited.sk-estimator-doc-link {\n",
       "  float: right;\n",
       "  font-size: smaller;\n",
       "  line-height: 1em;\n",
       "  font-family: monospace;\n",
       "  background-color: var(--sklearn-color-background);\n",
       "  border-radius: 1em;\n",
       "  height: 1em;\n",
       "  width: 1em;\n",
       "  text-decoration: none !important;\n",
       "  margin-left: 1ex;\n",
       "  /* unfitted */\n",
       "  border: var(--sklearn-color-unfitted-level-1) 1pt solid;\n",
       "  color: var(--sklearn-color-unfitted-level-1);\n",
       "}\n",
       "\n",
       ".sk-estimator-doc-link.fitted,\n",
       "a:link.sk-estimator-doc-link.fitted,\n",
       "a:visited.sk-estimator-doc-link.fitted {\n",
       "  /* fitted */\n",
       "  border: var(--sklearn-color-fitted-level-1) 1pt solid;\n",
       "  color: var(--sklearn-color-fitted-level-1);\n",
       "}\n",
       "\n",
       "/* On hover */\n",
       "div.sk-estimator:hover .sk-estimator-doc-link:hover,\n",
       ".sk-estimator-doc-link:hover,\n",
       "div.sk-label-container:hover .sk-estimator-doc-link:hover,\n",
       ".sk-estimator-doc-link:hover {\n",
       "  /* unfitted */\n",
       "  background-color: var(--sklearn-color-unfitted-level-3);\n",
       "  color: var(--sklearn-color-background);\n",
       "  text-decoration: none;\n",
       "}\n",
       "\n",
       "div.sk-estimator.fitted:hover .sk-estimator-doc-link.fitted:hover,\n",
       ".sk-estimator-doc-link.fitted:hover,\n",
       "div.sk-label-container:hover .sk-estimator-doc-link.fitted:hover,\n",
       ".sk-estimator-doc-link.fitted:hover {\n",
       "  /* fitted */\n",
       "  background-color: var(--sklearn-color-fitted-level-3);\n",
       "  color: var(--sklearn-color-background);\n",
       "  text-decoration: none;\n",
       "}\n",
       "\n",
       "/* Span, style for the box shown on hovering the info icon */\n",
       ".sk-estimator-doc-link span {\n",
       "  display: none;\n",
       "  z-index: 9999;\n",
       "  position: relative;\n",
       "  font-weight: normal;\n",
       "  right: .2ex;\n",
       "  padding: .5ex;\n",
       "  margin: .5ex;\n",
       "  width: min-content;\n",
       "  min-width: 20ex;\n",
       "  max-width: 50ex;\n",
       "  color: var(--sklearn-color-text);\n",
       "  box-shadow: 2pt 2pt 4pt #999;\n",
       "  /* unfitted */\n",
       "  background: var(--sklearn-color-unfitted-level-0);\n",
       "  border: .5pt solid var(--sklearn-color-unfitted-level-3);\n",
       "}\n",
       "\n",
       ".sk-estimator-doc-link.fitted span {\n",
       "  /* fitted */\n",
       "  background: var(--sklearn-color-fitted-level-0);\n",
       "  border: var(--sklearn-color-fitted-level-3);\n",
       "}\n",
       "\n",
       ".sk-estimator-doc-link:hover span {\n",
       "  display: block;\n",
       "}\n",
       "\n",
       "/* \"?\"-specific style due to the `<a>` HTML tag */\n",
       "\n",
       "#sk-container-id-3 a.estimator_doc_link {\n",
       "  float: right;\n",
       "  font-size: 1rem;\n",
       "  line-height: 1em;\n",
       "  font-family: monospace;\n",
       "  background-color: var(--sklearn-color-background);\n",
       "  border-radius: 1rem;\n",
       "  height: 1rem;\n",
       "  width: 1rem;\n",
       "  text-decoration: none;\n",
       "  /* unfitted */\n",
       "  color: var(--sklearn-color-unfitted-level-1);\n",
       "  border: var(--sklearn-color-unfitted-level-1) 1pt solid;\n",
       "}\n",
       "\n",
       "#sk-container-id-3 a.estimator_doc_link.fitted {\n",
       "  /* fitted */\n",
       "  border: var(--sklearn-color-fitted-level-1) 1pt solid;\n",
       "  color: var(--sklearn-color-fitted-level-1);\n",
       "}\n",
       "\n",
       "/* On hover */\n",
       "#sk-container-id-3 a.estimator_doc_link:hover {\n",
       "  /* unfitted */\n",
       "  background-color: var(--sklearn-color-unfitted-level-3);\n",
       "  color: var(--sklearn-color-background);\n",
       "  text-decoration: none;\n",
       "}\n",
       "\n",
       "#sk-container-id-3 a.estimator_doc_link.fitted:hover {\n",
       "  /* fitted */\n",
       "  background-color: var(--sklearn-color-fitted-level-3);\n",
       "}\n",
       "</style><div id=\"sk-container-id-3\" class=\"sk-top-container\"><div class=\"sk-text-repr-fallback\"><pre>KMeans(n_clusters=5)</pre><b>In a Jupyter environment, please rerun this cell to show the HTML representation or trust the notebook. <br />On GitHub, the HTML representation is unable to render, please try loading this page with nbviewer.org.</b></div><div class=\"sk-container\" hidden><div class=\"sk-item\"><div class=\"sk-estimator fitted sk-toggleable\"><input class=\"sk-toggleable__control sk-hidden--visually\" id=\"sk-estimator-id-3\" type=\"checkbox\" checked><label for=\"sk-estimator-id-3\" class=\"sk-toggleable__label fitted sk-toggleable__label-arrow fitted\">&nbsp;&nbsp;KMeans<a class=\"sk-estimator-doc-link fitted\" rel=\"noreferrer\" target=\"_blank\" href=\"https://scikit-learn.org/1.4/modules/generated/sklearn.cluster.KMeans.html\">?<span>Documentation for KMeans</span></a><span class=\"sk-estimator-doc-link fitted\">i<span>Fitted</span></span></label><div class=\"sk-toggleable__content fitted\"><pre>KMeans(n_clusters=5)</pre></div> </div></div></div></div>"
      ],
      "text/plain": [
       "KMeans(n_clusters=5)"
      ]
     },
     "execution_count": 126,
     "metadata": {},
     "output_type": "execute_result"
    }
   ],
   "source": [
    "kmeans.fit(df_scaled)"
   ]
  },
  {
   "cell_type": "code",
   "execution_count": 128,
   "id": "7c69d4d2-28b5-4845-8946-5244e1e62d2f",
   "metadata": {},
   "outputs": [],
   "source": [
    "kmeans = KMeans(n_clusters=5, random_state=None, n_init=10)"
   ]
  },
  {
   "cell_type": "code",
   "execution_count": 130,
   "id": "16602a36-0154-4556-8dc8-49304103c9dc",
   "metadata": {},
   "outputs": [
    {
     "name": "stderr",
     "output_type": "stream",
     "text": [
      "C:\\Users\\rlink\\AppData\\Local\\Temp\\ipykernel_22900\\1305691014.py:3: SettingWithCopyWarning: \n",
      "A value is trying to be set on a copy of a slice from a DataFrame.\n",
      "Try using .loc[row_indexer,col_indexer] = value instead\n",
      "\n",
      "See the caveats in the documentation: https://pandas.pydata.org/pandas-docs/stable/user_guide/indexing.html#returning-a-view-versus-a-copy\n",
      "  df_sub['Cluster'] = kmeans.fit_predict(df_scaled)\n"
     ]
    }
   ],
   "source": [
    "# Add the cluster labels to the original dataframe and to the subset\n",
    "df['Cluster'] = kmeans.fit_predict(df_scaled)\n",
    "df_sub['Cluster'] = kmeans.fit_predict(df_scaled)"
   ]
  },
  {
   "cell_type": "code",
   "execution_count": 132,
   "id": "91b37503-081d-4b4e-8e56-45639475ad1a",
   "metadata": {},
   "outputs": [
    {
     "name": "stdout",
     "output_type": "stream",
     "text": [
      "   eff min wage  cpi ave  Cluster  clusters cluster\n",
      "0          1.15     34.8        4         0    pink\n",
      "1          2.10     34.8        4         0    pink\n",
      "2          1.15     34.8        4         0    pink\n",
      "3          1.15     34.8        4         0    pink\n",
      "4          1.65     34.8        4         0    pink\n"
     ]
    }
   ],
   "source": [
    "# Verify cluster assignment\n",
    "print(df_sub.head())"
   ]
  },
  {
   "cell_type": "code",
   "execution_count": 134,
   "id": "680758b6-b79b-4143-b4b6-18518e276790",
   "metadata": {},
   "outputs": [
    {
     "name": "stderr",
     "output_type": "stream",
     "text": [
      "C:\\Users\\rlink\\AppData\\Local\\Temp\\ipykernel_22900\\1811275590.py:1: SettingWithCopyWarning: \n",
      "A value is trying to be set on a copy of a slice from a DataFrame.\n",
      "Try using .loc[row_indexer,col_indexer] = value instead\n",
      "\n",
      "See the caveats in the documentation: https://pandas.pydata.org/pandas-docs/stable/user_guide/indexing.html#returning-a-view-versus-a-copy\n",
      "  df_sub['clusters'] = kmeans.fit_predict(df_scaled)\n"
     ]
    }
   ],
   "source": [
    "df_sub['clusters'] = kmeans.fit_predict(df_scaled)"
   ]
  },
  {
   "cell_type": "markdown",
   "id": "4ef2f12a-2de0-43b2-b069-ff5f7c9acba9",
   "metadata": {},
   "source": [
    "### Plot the clusters for the \"eff min wage\" and the \"cpi ave\" variables"
   ]
  },
  {
   "cell_type": "code",
   "execution_count": 137,
   "id": "2213f6f5-5f68-40a1-bd82-5ba38ae21c5b",
   "metadata": {},
   "outputs": [
    {
     "data": {
      "image/png": "[encoded data removed]",
      "text/plain": [
       "<Figure size 1200x800 with 1 Axes>"
      ]
     },
     "metadata": {},
     "output_type": "display_data"
    }
   ],
   "source": [
    "plt.figure(figsize=(12,8))\n",
    "ax = sns.scatterplot(x=df_sub['eff min wage'], y=df_sub['cpi ave'], hue=kmeans.labels_, s=100) \n",
    "\n",
    "ax.grid(False)\n",
    "plt.xlabel('Effective min wage') # Label x-axis.\n",
    "plt.ylabel('CPI average') # Label y-axis.\n",
    "plt.show()"
   ]
  },
  {
   "cell_type": "code",
   "execution_count": 139,
   "id": "01daa262-aee1-4d8e-9445-4be3a278298c",
   "metadata": {},
   "outputs": [],
   "source": [
    "df_sub.loc[df_sub['clusters'] == 2, 'cluster'] = 'black'\n",
    "df_sub.loc[df_sub['clusters'] == 1, 'cluster'] = 'purple'\n",
    "df_sub.loc[df_sub['clusters'] == 0, 'cluster'] = 'pink'"
   ]
  },
  {
   "cell_type": "code",
   "execution_count": 141,
   "id": "d42b1c25-fd32-44ba-8b91-6dbfb2d2aef7",
   "metadata": {},
   "outputs": [
    {
     "data": {
      "text/html": [
       "<div>\n",
       "<style scoped>\n",
       "    .dataframe tbody tr th:only-of-type {\n",
       "        vertical-align: middle;\n",
       "    }\n",
       "\n",
       "    .dataframe tbody tr th {\n",
       "        vertical-align: top;\n",
       "    }\n",
       "\n",
       "    .dataframe thead tr th {\n",
       "        text-align: left;\n",
       "    }\n",
       "\n",
       "    .dataframe thead tr:last-of-type th {\n",
       "        text-align: right;\n",
       "    }\n",
       "</style>\n",
       "<table border=\"1\" class=\"dataframe\">\n",
       "  <thead>\n",
       "    <tr>\n",
       "      <th></th>\n",
       "      <th colspan=\"2\" halign=\"left\">eff min wage</th>\n",
       "      <th colspan=\"2\" halign=\"left\">cpi ave</th>\n",
       "    </tr>\n",
       "    <tr>\n",
       "      <th></th>\n",
       "      <th>mean</th>\n",
       "      <th>median</th>\n",
       "      <th>mean</th>\n",
       "      <th>median</th>\n",
       "    </tr>\n",
       "    <tr>\n",
       "      <th>cluster</th>\n",
       "      <th></th>\n",
       "      <th></th>\n",
       "      <th></th>\n",
       "      <th></th>\n",
       "    </tr>\n",
       "  </thead>\n",
       "  <tbody>\n",
       "    <tr>\n",
       "      <th>black</th>\n",
       "      <td>7.740180</td>\n",
       "      <td>7.25</td>\n",
       "      <td>231.731409</td>\n",
       "      <td>232.957</td>\n",
       "    </tr>\n",
       "    <tr>\n",
       "      <th>pink</th>\n",
       "      <td>4.218832</td>\n",
       "      <td>4.25</td>\n",
       "      <td>139.974740</td>\n",
       "      <td>144.500</td>\n",
       "    </tr>\n",
       "    <tr>\n",
       "      <th>purple</th>\n",
       "      <td>1.982195</td>\n",
       "      <td>1.60</td>\n",
       "      <td>60.924788</td>\n",
       "      <td>49.300</td>\n",
       "    </tr>\n",
       "  </tbody>\n",
       "</table>\n",
       "</div>"
      ],
      "text/plain": [
       "        eff min wage            cpi ave         \n",
       "                mean median        mean   median\n",
       "cluster                                         \n",
       "black       7.740180   7.25  231.731409  232.957\n",
       "pink        4.218832   4.25  139.974740  144.500\n",
       "purple      1.982195   1.60   60.924788   49.300"
      ]
     },
     "execution_count": 141,
     "metadata": {},
     "output_type": "execute_result"
    }
   ],
   "source": [
    "df_sub.groupby('cluster').agg({'eff min wage':['mean', 'median'], \n",
    "                          'cpi ave':['mean', 'median']})"
   ]
  },
  {
   "cell_type": "markdown",
   "id": "2cac38db-0fdc-4c7c-9dcf-7fb61893d2e4",
   "metadata": {},
   "source": [
    "## How and why the clusters make sense"
   ]
  },
  {
   "cell_type": "markdown",
   "id": "ec9d416d-eb7f-458c-a319-399cee8a32d6",
   "metadata": {},
   "source": [
    "I ran the silhouette algorithm and determined that the best fit for the number of clusters is 5.\n",
    "\n",
    "The clusters show that nominal minimum wage does in fact increase proportionally with CPI.\n",
    "\n",
    "In many states, there is no mandated minimum wage, or it was legislated at a later date. This affects the kmeans algorythm. \n",
    "\n",
    "My conclusion is that while there may be other factors that explain changes in the minimum wage, inflation is highly correlated.\n",
    "\n",
    "It would be good to explore other factors to determine why minimum wages change over time. Some ideas are political: election years, which party has majorities in legislatures, which party the executive belongs to. Other ideas may be econimic: unemployment rate, housing prices, food and/or other staples prices."
   ]
  },
  {
   "cell_type": "code",
   "execution_count": null,
   "id": "22230b46-8d48-43ff-80b8-b00c6b68d1ff",
   "metadata": {},
   "outputs": [],
   "source": []
  }
 ],
 "metadata": {
  "kernelspec": {
   "display_name": "Python 3 (ipykernel)",
   "language": "python",
   "name": "python3"
  },
  "language_info": {
   "codemirror_mode": {
    "name": "ipython",
    "version": 3
   },
   "file_extension": ".py",
   "mimetype": "text/x-python",
   "name": "python",
   "nbconvert_exporter": "python",
   "pygments_lexer": "ipython3",
   "version": "3.12.4"
  }
 },
 "nbformat": 4,
 "nbformat_minor": 5
}
